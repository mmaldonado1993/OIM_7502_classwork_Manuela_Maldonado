{
 "cells": [
  {
   "cell_type": "code",
   "execution_count": 1,
   "id": "32aeae56-760e-44b1-b912-9a5d306e8418",
   "metadata": {},
   "outputs": [
    {
     "name": "stdout",
     "output_type": "stream",
     "text": [
      "Requirement already satisfied: nltk in /opt/anaconda3/lib/python3.12/site-packages (3.9.1)\n",
      "Collecting PyPDF2\n",
      "  Downloading pypdf2-3.0.1-py3-none-any.whl.metadata (6.8 kB)\n",
      "Collecting py-readability-metrics\n",
      "  Downloading py_readability_metrics-1.4.5-py3-none-any.whl.metadata (8.8 kB)\n",
      "Collecting wordcloud\n",
      "  Downloading wordcloud-1.9.4-cp312-cp312-macosx_11_0_arm64.whl.metadata (3.4 kB)\n",
      "Requirement already satisfied: click in /opt/anaconda3/lib/python3.12/site-packages (from nltk) (8.1.7)\n",
      "Requirement already satisfied: joblib in /opt/anaconda3/lib/python3.12/site-packages (from nltk) (1.4.2)\n",
      "Requirement already satisfied: regex>=2021.8.3 in /opt/anaconda3/lib/python3.12/site-packages (from nltk) (2024.9.11)\n",
      "Requirement already satisfied: tqdm in /opt/anaconda3/lib/python3.12/site-packages (from nltk) (4.66.5)\n",
      "Requirement already satisfied: numpy>=1.6.1 in /opt/anaconda3/lib/python3.12/site-packages (from wordcloud) (1.26.4)\n",
      "Requirement already satisfied: pillow in /opt/anaconda3/lib/python3.12/site-packages (from wordcloud) (10.4.0)\n",
      "Requirement already satisfied: matplotlib in /opt/anaconda3/lib/python3.12/site-packages (from wordcloud) (3.9.2)\n",
      "Requirement already satisfied: contourpy>=1.0.1 in /opt/anaconda3/lib/python3.12/site-packages (from matplotlib->wordcloud) (1.2.0)\n",
      "Requirement already satisfied: cycler>=0.10 in /opt/anaconda3/lib/python3.12/site-packages (from matplotlib->wordcloud) (0.11.0)\n",
      "Requirement already satisfied: fonttools>=4.22.0 in /opt/anaconda3/lib/python3.12/site-packages (from matplotlib->wordcloud) (4.51.0)\n",
      "Requirement already satisfied: kiwisolver>=1.3.1 in /opt/anaconda3/lib/python3.12/site-packages (from matplotlib->wordcloud) (1.4.4)\n",
      "Requirement already satisfied: packaging>=20.0 in /opt/anaconda3/lib/python3.12/site-packages (from matplotlib->wordcloud) (24.1)\n",
      "Requirement already satisfied: pyparsing>=2.3.1 in /opt/anaconda3/lib/python3.12/site-packages (from matplotlib->wordcloud) (3.1.2)\n",
      "Requirement already satisfied: python-dateutil>=2.7 in /opt/anaconda3/lib/python3.12/site-packages (from matplotlib->wordcloud) (2.9.0.post0)\n",
      "Requirement already satisfied: six>=1.5 in /opt/anaconda3/lib/python3.12/site-packages (from python-dateutil>=2.7->matplotlib->wordcloud) (1.16.0)\n",
      "Downloading pypdf2-3.0.1-py3-none-any.whl (232 kB)\n",
      "Downloading py_readability_metrics-1.4.5-py3-none-any.whl (26 kB)\n",
      "Downloading wordcloud-1.9.4-cp312-cp312-macosx_11_0_arm64.whl (168 kB)\n",
      "Installing collected packages: PyPDF2, py-readability-metrics, wordcloud\n",
      "Successfully installed PyPDF2-3.0.1 py-readability-metrics-1.4.5 wordcloud-1.9.4\n"
     ]
    }
   ],
   "source": [
    "!pip install nltk PyPDF2 py-readability-metrics wordcloud\n"
   ]
  },
  {
   "cell_type": "code",
   "execution_count": 3,
   "id": "64f14754-4588-4048-9a69-bcab3807b367",
   "metadata": {},
   "outputs": [],
   "source": [
    "import nltk\n",
    "import PyPDF2\n",
    "import os\n",
    "import string\n"
   ]
  },
  {
   "cell_type": "code",
   "execution_count": 5,
   "id": "3d98b3cd-475b-455d-b860-ed2a922487c0",
   "metadata": {},
   "outputs": [
    {
     "name": "stderr",
     "output_type": "stream",
     "text": [
      "[nltk_data] Downloading package punkt to /Users/manuela/nltk_data...\n",
      "[nltk_data]   Unzipping tokenizers/punkt.zip.\n",
      "[nltk_data] Downloading package stopwords to\n",
      "[nltk_data]     /Users/manuela/nltk_data...\n",
      "[nltk_data]   Unzipping corpora/stopwords.zip.\n",
      "[nltk_data] Downloading package vader_lexicon to\n",
      "[nltk_data]     /Users/manuela/nltk_data...\n"
     ]
    },
    {
     "data": {
      "text/plain": [
       "True"
      ]
     },
     "execution_count": 5,
     "metadata": {},
     "output_type": "execute_result"
    }
   ],
   "source": [
    "nltk.download('punkt')\n",
    "nltk.download('stopwords')\n",
    "nltk.download('vader_lexicon')\n"
   ]
  },
  {
   "cell_type": "markdown",
   "id": "541baf0c-66f7-441c-b6a0-5c865e67d650",
   "metadata": {},
   "source": [
    "## Question number 3 \n",
    "\n",
    "The two news articles discuss plagiarism allegations against Harvard University President Claudine Gay. \n",
    "The Fox News article shows multiple allegations and focuses on the controversies surrounding the university's handling of the case. On the other hand, the Reuters article adopts a more neutral tone, providing information about Gay's response and the university's review process.\n",
    "\n",
    "From my perspective, the Fox News article seems more sensational, while the Reuters article focuses more on factual reporting.\n"
   ]
  },
  {
   "cell_type": "code",
   "execution_count": 12,
   "id": "98aa884f-9fc1-4ee8-903e-b783e28327d2",
   "metadata": {},
   "outputs": [
    {
     "name": "stdout",
     "output_type": "stream",
     "text": [
      "/Users/manuela/OIM7502_SP25\n"
     ]
    }
   ],
   "source": [
    "import os\n",
    "print(os.getcwd())\n"
   ]
  },
  {
   "cell_type": "code",
   "execution_count": 20,
   "id": "5c5c1b5b-780e-4c80-b3e6-4f07c6fb9fb1",
   "metadata": {},
   "outputs": [],
   "source": [
    "fox_reader = PdfReader(\"/Users/manuela/OIM7502_SP25/foxnews.pdf\")\n",
    "reuters_reader = PdfReader(\"/Users/manuela/OIM7502_SP25/reuters.pdf\")\n"
   ]
  },
  {
   "cell_type": "code",
   "execution_count": 22,
   "id": "2774d16f-3f7a-439d-9b11-a413251be9c0",
   "metadata": {},
   "outputs": [
    {
     "name": "stdout",
     "output_type": "stream",
     "text": [
      "True\n",
      "True\n"
     ]
    }
   ],
   "source": [
    "print(os.path.exists(\"foxnews.pdf\"))\n",
    "print(os.path.exists(\"reuters.pdf\"))\n"
   ]
  },
  {
   "cell_type": "code",
   "execution_count": 26,
   "id": "e0e641da-ae82-41df-aa9c-0863984712cb",
   "metadata": {},
   "outputs": [
    {
     "name": "stdout",
     "output_type": "stream",
     "text": [
      "Fox News Article:\n",
      " 1 / 5Brian FloodEmbattled Harvard University President Claudine Gay hit\n",
      "with more plagiarism charges\n",
      "foxnews.com /media/embattled-harvard-university-president-claudine-gay-hit-more-plagiarism-charges\n",
      "Media\n",
      "Harvard ‘received a complaint outlining over 40 allegations of\n",
      "plagiarism,’ according to the Free Beacon\n",
      " By Brian Flood  Fox News\n",
      "Published December 20, 2023 12:59pm EST\n",
      "Harvard president facing 40 new allegations of plagiarism\n",
      "Fox News' Molly Line reports the latest on the allegations. \n",
      "Emba\n",
      "\n",
      "Reuters Article:\n",
      " 1 / 3Gabriella BorterHarvard president will submit dissertation edits after\n",
      "plagiarism allegations\n",
      "reuters.com /world/us/embattled-harvard-president-will-submit-dissertation-edits-after-plagiarism-2023-12-21\n",
      "Harvard University President Claudine Gay testifies before a House Education and The\n",
      "Workforce Committee hearing titled \"Holding Campus Leaders Accountable and Confronting\n",
      "Antisemitism\" on Capitol Hill in W ashington, U.S., December 5, 2023. REUTERS/Ken\n",
      "Cedeno/File Photo Acquire Licensing Ri\n"
     ]
    }
   ],
   "source": [
    "from PyPDF2 import PdfReader\n",
    "\n",
    "# Use correct full paths\n",
    "fox_reader = PdfReader(\"/Users/manuela/OIM_7502_classwork_Manuela_Maldonado/foxnews.pdf\")\n",
    "reuters_reader = PdfReader(\"/Users/manuela/OIM_7502_classwork_Manuela_Maldonado/reuters.pdf\")\n",
    "\n",
    "fox_text = \"\"\n",
    "for page in fox_reader.pages:\n",
    "    fox_text += page.extract_text()\n",
    "\n",
    "reuters_text = \"\"\n",
    "for page in reuters_reader.pages:\n",
    "    reuters_text += page.extract_text()\n",
    "\n",
    "print(\"Fox News Article:\\n\", fox_text[:500])\n",
    "print(\"\\nReuters Article:\\n\", reuters_text[:500])\n"
   ]
  },
  {
   "cell_type": "markdown",
   "id": "1aba63dc-902c-45d5-a7ad-9fb2267763ca",
   "metadata": {},
   "source": [
    "\n",
    "I found the text extraction process from the PDF files challenging and are some anomalies. For example, some sentences appeared incomplete or were cut off unexpectedly, making the text harder to follow. I also noticed irregular line breaks and extra spaces between words, which cuts the flow of the content. Additionally, other things like titles, page numbers, or footers were mixed into the main text, and some special characters and punctuation marks seemed to be missing or incorrectly displayed.\n"
   ]
  },
  {
   "cell_type": "code",
   "execution_count": 29,
   "id": "aaea3d3d-f8dc-4d0e-be5e-20cfc7ad42e0",
   "metadata": {},
   "outputs": [
    {
     "name": "stdout",
     "output_type": "stream",
     "text": [
      "Requirement already satisfied: nltk in /opt/anaconda3/lib/python3.12/site-packages (3.9.1)\n",
      "Requirement already satisfied: click in /opt/anaconda3/lib/python3.12/site-packages (from nltk) (8.1.7)\n",
      "Requirement already satisfied: joblib in /opt/anaconda3/lib/python3.12/site-packages (from nltk) (1.4.2)\n",
      "Requirement already satisfied: regex>=2021.8.3 in /opt/anaconda3/lib/python3.12/site-packages (from nltk) (2024.9.11)\n",
      "Requirement already satisfied: tqdm in /opt/anaconda3/lib/python3.12/site-packages (from nltk) (4.66.5)\n"
     ]
    },
    {
     "name": "stderr",
     "output_type": "stream",
     "text": [
      "[nltk_data] Downloading package punkt to /Users/manuela/nltk_data...\n",
      "[nltk_data]   Package punkt is already up-to-date!\n",
      "[nltk_data] Downloading package stopwords to\n",
      "[nltk_data]     /Users/manuela/nltk_data...\n",
      "[nltk_data]   Package stopwords is already up-to-date!\n",
      "[nltk_data] Downloading package vader_lexicon to\n",
      "[nltk_data]     /Users/manuela/nltk_data...\n",
      "[nltk_data]   Package vader_lexicon is already up-to-date!\n"
     ]
    },
    {
     "data": {
      "text/plain": [
       "True"
      ]
     },
     "execution_count": 29,
     "metadata": {},
     "output_type": "execute_result"
    }
   ],
   "source": [
    "!pip install nltk\n",
    "import nltk\n",
    "nltk.download('punkt')\n",
    "nltk.download('stopwords')\n",
    "nltk.download('vader_lexicon')\n"
   ]
  },
  {
   "cell_type": "code",
   "execution_count": 31,
   "id": "4f156876-70c9-403c-af08-edfd872ffbf3",
   "metadata": {},
   "outputs": [
    {
     "name": "stdout",
     "output_type": "stream",
     "text": [
      "Fox News Sentiment: {'neg': 0.065, 'neu': 0.866, 'pos': 0.07, 'compound': 0.7243}\n",
      "Reuters Sentiment: {'neg': 0.07, 'neu': 0.904, 'pos': 0.026, 'compound': -0.9719}\n"
     ]
    }
   ],
   "source": [
    "from nltk.sentiment import SentimentIntensityAnalyzer\n",
    "\n",
    "\n",
    "sia = SentimentIntensityAnalyzer()\n",
    "\n",
    "\n",
    "fox_sentiment = sia.polarity_scores(fox_text)\n",
    "reuters_sentiment = sia.polarity_scores(reuters_text)\n",
    "\n",
    "print(\"Fox News Sentiment:\", fox_sentiment)\n",
    "print(\"Reuters Sentiment:\", reuters_sentiment)\n"
   ]
  },
  {
   "cell_type": "markdown",
   "id": "5cda5668-16de-4cd7-a06f-857b4cc09f9a",
   "metadata": {},
   "source": [
    "I observed that the **Fox News article had a more negative sentiment score**, while the **Reuters article seemed more neutral**. \n",
    "I believe this could be because the Fox article used more emotionally charged words, when Reuters focused on factual information. \n",
    "Understanding how these scores are calculated (positive, negative, neutral, and compound values) helped me see how language can influence the tone of an article. \n",
    "\n",
    "\n"
   ]
  },
  {
   "cell_type": "code",
   "execution_count": 35,
   "id": "300883b1-c941-47d5-aa2c-91cc0d9fc636",
   "metadata": {},
   "outputs": [
    {
     "name": "stdout",
     "output_type": "stream",
     "text": [
      "Fox Headline Sentiment: {'neg': 0.192, 'neu': 0.808, 'pos': 0.0, 'compound': -0.3353}\n",
      "Reuters Headline Sentiment: {'neg': 0.0, 'neu': 1.0, 'pos': 0.0, 'compound': 0.0}\n"
     ]
    }
   ],
   "source": [
    "\n",
    "fox_headline = \"Embattled Harvard University President Claudine Gay hit with more plagiarism charges\"\n",
    "reuters_headline = \"Harvard president will submit dissertation edits after plagiarism allegations\"\n",
    "\n",
    "\n",
    "print(\"Fox Headline Sentiment:\", sia.polarity_scores(fox_headline))\n",
    "print(\"Reuters Headline Sentiment:\", sia.polarity_scores(reuters_headline))\n"
   ]
  },
  {
   "cell_type": "markdown",
   "id": "5e4e55a6-4562-4d77-a95b-4ba4d93fc7b6",
   "metadata": {},
   "source": [
    "The **Fox News headline** showed a more negative sentiment because of stronger language, while the **Reuters headline** was more neutral and factual. The sentiment differences in the headlines align with the tone of their respective articles, highlighting how word choice influences reader perception.\n"
   ]
  },
  {
   "cell_type": "code",
   "execution_count": null,
   "id": "cc55c024-1ae8-4e57-9320-6067a7d82d9a",
   "metadata": {},
   "outputs": [],
   "source": [
    "\n"
   ]
  },
  {
   "cell_type": "code",
   "execution_count": null,
   "id": "836054fa-edc4-43d1-9624-50f97ded7247",
   "metadata": {},
   "outputs": [],
   "source": []
  },
  {
   "cell_type": "code",
   "execution_count": null,
   "id": "89cb021e-2149-4716-87c2-487e23f6c73b",
   "metadata": {},
   "outputs": [],
   "source": [
    "\n"
   ]
  },
  {
   "cell_type": "code",
   "execution_count": null,
   "id": "8bde2f32-48d8-4e84-b0ed-8389878929c8",
   "metadata": {},
   "outputs": [],
   "source": []
  }
 ],
 "metadata": {
  "kernelspec": {
   "display_name": "Python 3 (ipykernel)",
   "language": "python",
   "name": "python3"
  },
  "language_info": {
   "codemirror_mode": {
    "name": "ipython",
    "version": 3
   },
   "file_extension": ".py",
   "mimetype": "text/x-python",
   "name": "python",
   "nbconvert_exporter": "python",
   "pygments_lexer": "ipython3",
   "version": "3.12.7"
  }
 },
 "nbformat": 4,
 "nbformat_minor": 5
}
